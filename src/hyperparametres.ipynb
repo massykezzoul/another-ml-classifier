{
 "cells": [
  {
   "cell_type": "code",
   "execution_count": 1,
   "id": "34411c6f",
   "metadata": {},
   "outputs": [
    {
     "name": "stderr",
     "output_type": "stream",
     "text": [
      "2021-12-08 20:18:44.937318: W tensorflow/stream_executor/platform/default/dso_loader.cc:64] Could not load dynamic library 'libcudart.so.11.0'; dlerror: libcudart.so.11.0: cannot open shared object file: No such file or directory\n",
      "2021-12-08 20:18:44.937408: I tensorflow/stream_executor/cuda/cudart_stub.cc:29] Ignore above cudart dlerror if you do not have a GPU set up on your machine.\n"
     ]
    }
   ],
   "source": [
    "from tools import pretraitement, buildmodel\n",
    "import tensorflow as tf\n",
    "from tensorflow import keras\n",
    "from keras.wrappers.scikit_learn import KerasClassifier\n",
    "from sklearn.model_selection import train_test_split, GridSearchCV\n",
    "import numpy as np"
   ]
  },
  {
   "cell_type": "code",
   "execution_count": 2,
   "id": "836a1233",
   "metadata": {},
   "outputs": [],
   "source": [
    "# Chargement du jeu de données\n",
    "(x_train_origin, y_train_origin), (x_test_origin, y_test_origin) = tf.keras.datasets.cifar10.load_data()\n",
    "\n",
    "# pretraitement des données\n",
    "(x_train, y_train) = pretraitement.normalize_dataset(x_train_origin, y_train_origin)\n",
    "\n",
    "(x_test, y_test) = pretraitement.normalize_dataset(x_test_origin, y_test_origin)\n",
    "\n",
    "del x_train_origin\n",
    "del x_test_origin\n",
    "del y_train_origin\n",
    "del y_test_origin\n",
    "\n",
    "assert x_train.shape == (50000, 32, 32, 3)\n",
    "assert x_test.shape == (10000, 32, 32, 3)\n",
    "assert y_train.shape == (50000, 10)\n",
    "assert y_test.shape == (10000, 10)"
   ]
  },
  {
   "cell_type": "markdown",
   "id": "f382e3c8",
   "metadata": {},
   "source": [
    "# Hyper paramètres\n",
    "\n",
    "Dans ce notebook, nous passons à la recherche des paramètres d'entrainement qui donnent le meilleurs résultas. Dans ce qui suit, nous prenons une seule structure de modèle ainsi qu'une certaine augmentation des données. Ces derniers points ont été traités dans de précedant notebook."
   ]
  },
  {
   "cell_type": "code",
   "execution_count": 4,
   "id": "d517d0d7",
   "metadata": {},
   "outputs": [],
   "source": [
    "parametres = { 'data': {\n",
    "    'x_train_shape': x_train.shape,\n",
    "    'y_train_shape': y_train.shape,\n",
    "    'x_test_shape': x_test.shape,\n",
    "    'y_test_shape': y_test.shape,\n",
    "    'augmented_data': True\n",
    "}}\n",
    "\n",
    "datagen, parametres['data']['augmentation_param'] = buildmodel.create_datagen()"
   ]
  },
  {
   "cell_type": "markdown",
   "id": "093dc594",
   "metadata": {},
   "source": [
    "## Variation des paramètre\n",
    "\n",
    "- learning_rate prend ces valeurs dans : `[0.005, 0.001, 0.0001]`\n",
    "- loss prend ces valeurs dans : `['mean_squared_error', 'categorical_crossentropy']`\n",
    "- optimizer prend ces valeurs dans : `['adam', '...']`\n",
    "- dropout: `[ ]`\n"
   ]
  },
  {
   "cell_type": "code",
   "execution_count": 9,
   "id": "c4bc6ec5",
   "metadata": {},
   "outputs": [],
   "source": [
    "# Compiling model\n",
    "def compil_model(lr=0.001, loss='categorical_crossentropy',\n",
    "                opt='adam',epochs=40, batch_size=64,dropout=0.5):\n",
    "    \n",
    "    model = buildmodel.create_model(dropout=dropout)\n",
    "    \n",
    "    optimizers={'adam':Adam(learning_rate=lr)}\n",
    "    optimizer = 'adam'\n",
    "    metrics=['accuracy']\n",
    "    \n",
    "    model.compile(optimizer=optimizers[optimizer],\n",
    "                  loss=loss,\n",
    "                  metrics=metrics)\n",
    "    \n",
    "    return model"
   ]
  },
  {
   "cell_type": "markdown",
   "id": "281d96e1",
   "metadata": {},
   "source": [
    ", {\n",
    "        'learning_rate': lr,\n",
    "        'loss': loss,\n",
    "        'optimizer': optimizer,\n",
    "        'metrics': metrics,\n",
    "        'epochs': epochs,\n",
    "        'batch_size': batch_size\n",
    "    }"
   ]
  },
  {
   "cell_type": "code",
   "execution_count": 10,
   "id": "d8514245",
   "metadata": {},
   "outputs": [],
   "source": [
    "def gridSearch(x_train, y_train,x_test, y_test, verbose=False):\n",
    "    param = {\n",
    "        'loss': ['categorical_crossentropy','mean_squared_error'],\n",
    "        'lr': [0.005, 0.001, 0.0001],\n",
    "        'dropout': [0.1, 0.3, 0.5],\n",
    "        'opt': ['adam']\n",
    "    }\n",
    "    # create model\n",
    "    model = KerasClassifier(build_fn=compil_model, verbose=2)\n",
    "    \n",
    "    gd_sr = GridSearchCV(estimator=model,  \n",
    "                         param_grid=param,\n",
    "                         scoring='accuracy',\n",
    "                         cv=2,\n",
    "                         n_jobs=-1,\n",
    "                        verbose=2)\n",
    "    \n",
    "    gd_sr.fit(np.append(x_train, x_test, axis=0), \n",
    "                        np.append(y_train,y_test,axis=0))\n",
    "    if verbose:\n",
    "        print(\"Best score: \"+str(gd_sr.best_score_))\n",
    "    \n",
    "    predictions = (name, gd_sr.best_score_, gd_sr.best_estimator_,gd_sr.best_params_)\n",
    "        \n",
    "    del gd_sr\n",
    "    \n",
    "    return predictions"
   ]
  },
  {
   "cell_type": "code",
   "execution_count": null,
   "id": "4d189a06",
   "metadata": {},
   "outputs": [
    {
     "name": "stderr",
     "output_type": "stream",
     "text": [
      "2021-12-08 20:22:07.835092: W tensorflow/stream_executor/platform/default/dso_loader.cc:64] Could not load dynamic library 'libcudart.so.11.0'; dlerror: libcudart.so.11.0: cannot open shared object file: No such file or directory\n",
      "2021-12-08 20:22:07.835072: W tensorflow/stream_executor/platform/default/dso_loader.cc:64] Could not load dynamic library 'libcudart.so.11.0'; dlerror: libcudart.so.11.0: cannot open shared object file: No such file or directory\n",
      "2021-12-08 20:22:07.835184: I tensorflow/stream_executor/cuda/cudart_stub.cc:29] Ignore above cudart dlerror if you do not have a GPU set up on your machine.\n",
      "2021-12-08 20:22:07.835199: I tensorflow/stream_executor/cuda/cudart_stub.cc:29] Ignore above cudart dlerror if you do not have a GPU set up on your machine.\n"
     ]
    }
   ],
   "source": [
    "gridSearch(x_train, y_train, x_test, y_test)"
   ]
  },
  {
   "cell_type": "code",
   "execution_count": null,
   "id": "f24ad813",
   "metadata": {},
   "outputs": [],
   "source": []
  }
 ],
 "metadata": {
  "kernelspec": {
   "display_name": "Python 3 (ipykernel)",
   "language": "python",
   "name": "python3"
  },
  "language_info": {
   "codemirror_mode": {
    "name": "ipython",
    "version": 3
   },
   "file_extension": ".py",
   "mimetype": "text/x-python",
   "name": "python",
   "nbconvert_exporter": "python",
   "pygments_lexer": "ipython3",
   "version": "3.9.5"
  }
 },
 "nbformat": 4,
 "nbformat_minor": 5
}
