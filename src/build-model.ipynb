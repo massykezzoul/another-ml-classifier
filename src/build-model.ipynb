{
 "cells": [
  {
   "cell_type": "markdown",
   "metadata": {},
   "source": [
    "# Build a CNN model"
   ]
  },
  {
   "cell_type": "code",
   "execution_count": 1,
   "metadata": {},
   "outputs": [
    {
     "name": "stderr",
     "output_type": "stream",
     "text": [
      "2021-12-09 11:49:45.782938: W tensorflow/stream_executor/platform/default/dso_loader.cc:64] Could not load dynamic library 'libcudart.so.11.0'; dlerror: libcudart.so.11.0: cannot open shared object file: No such file or directory\n",
      "2021-12-09 11:49:45.782964: I tensorflow/stream_executor/cuda/cudart_stub.cc:29] Ignore above cudart dlerror if you do not have a GPU set up on your machine.\n"
     ]
    }
   ],
   "source": [
    "import tensorflow as tf\n",
    "\n",
    "from tensorflow.keras import datasets, layers, models\n",
    "from tensorflow.keras.optimizers import Adam\n",
    "from tensorflow.python.keras.preprocessing.image import ImageDataGenerator\n",
    "import matplotlib.pyplot as plt\n",
    "\n",
    "from tools import pretraitement\n",
    "import random\n",
    "import os\n",
    "import json\n",
    "import sys\n",
    "import time"
   ]
  },
  {
   "cell_type": "code",
   "execution_count": 2,
   "metadata": {},
   "outputs": [],
   "source": [
    "# Chargement du jeu de données\n",
    "(x_train_origin, y_train_origin), (x_test_origin, y_test_origin) = tf.keras.datasets.cifar10.load_data()\n",
    "\n",
    "# pretraitement des données\n",
    "(x_train, y_train) = pretraitement.normalize_dataset(x_train_origin, y_train_origin)\n",
    "\n",
    "(x_test, y_test) = pretraitement.normalize_dataset(x_test_origin, y_test_origin)\n",
    "\n",
    "del x_train_origin\n",
    "del x_test_origin\n",
    "del y_train_origin\n",
    "del y_test_origin\n",
    "\n",
    "assert x_train.shape == (50000, 32, 32, 3)\n",
    "assert x_test.shape == (10000, 32, 32, 3)\n",
    "assert y_train.shape == (50000, 10)\n",
    "assert y_test.shape == (10000, 10)"
   ]
  },
  {
   "cell_type": "code",
   "execution_count": 3,
   "metadata": {},
   "outputs": [],
   "source": [
    "parametres = { 'data': {\n",
    "    'x_train_shape': x_train.shape,\n",
    "    'y_train_shape': y_train.shape,\n",
    "    'x_test_shape': x_test.shape,\n",
    "    'y_test_shape': y_test.shape,\n",
    "    'augmented_data': False\n",
    "}}"
   ]
  },
  {
   "cell_type": "markdown",
   "metadata": {},
   "source": [
    "## Construction d'un modèle\n",
    "\n",
    "Nous commençons par créer un modèle simple pour avoir un premier résultat. Nous verrons après comment modifier sa structure afin d'avoir de meilleurs résultats.\n",
    "\n",
    "### Structure du modèle\n",
    "\n",
    "Nous avons défini, pour commencer un modèle avec les couches suivantes :\n",
    "\n",
    "- La  première, c'est la couche d'entrée. (input_shape)\n",
    "- Puis nous avons ajouté 3 couches de convolution 2D de dimensions de 32, 64 et 128 qui sont  chaqu'une suivit d'une couche de MaxPooling\n",
    "- Puis viens une couche `Flatten` pour aplatir l'image obtenue afin de la passer à un réseau `dense`\n",
    "- Enfin une couche `dense` de 256 neurones avec comme fonction d'activation `relu`"
   ]
  },
  {
   "cell_type": "code",
   "execution_count": 4,
   "metadata": {},
   "outputs": [
    {
     "name": "stderr",
     "output_type": "stream",
     "text": [
      "2021-12-09 11:50:20.130180: W tensorflow/stream_executor/platform/default/dso_loader.cc:64] Could not load dynamic library 'libcuda.so.1'; dlerror: libcuda.so.1: cannot open shared object file: No such file or directory\n",
      "2021-12-09 11:50:20.130239: W tensorflow/stream_executor/cuda/cuda_driver.cc:269] failed call to cuInit: UNKNOWN ERROR (303)\n",
      "2021-12-09 11:50:20.130266: I tensorflow/stream_executor/cuda/cuda_diagnostics.cc:156] kernel driver does not appear to be running on this host (pop-os): /proc/driver/nvidia/version does not exist\n",
      "2021-12-09 11:50:20.130528: I tensorflow/core/platform/cpu_feature_guard.cc:142] This TensorFlow binary is optimized with oneAPI Deep Neural Network Library (oneDNN) to use the following CPU instructions in performance-critical operations:  AVX2 FMA\n",
      "To enable them in other operations, rebuild TensorFlow with the appropriate compiler flags.\n"
     ]
    }
   ],
   "source": [
    "# Construction d'un CNN\n",
    "input_shape=(32, 32, 3)\n",
    "\n",
    "# La base CNN\n",
    "model = models.Sequential()\n",
    "model.add(layers.Conv2D(32, (3, 3), activation='relu', input_shape=input_shape))\n",
    "model.add(layers.MaxPooling2D((2, 2)))\n",
    "\n",
    "model.add(layers.Conv2D(64, (3, 3), activation='relu'))\n",
    "model.add(layers.MaxPooling2D((2, 2)))\n",
    "\n",
    "model.add(layers.Conv2D(128, (3, 3), activation='relu'))\n",
    "model.add(layers.MaxPooling2D((2, 2)))\n",
    "\n",
    "# Ajout de couches denses vers la fin du model\n",
    "model.add(layers.Flatten())\n",
    "model.add(layers.Dense(256, activation='relu'))\n",
    "model.add(layers.Dense(10, activation='softmax'))"
   ]
  },
  {
   "cell_type": "markdown",
   "metadata": {},
   "source": [
    "Durant ce processus, en garde en mémoire chaque informations qui nous a amené à un modèle. Pour cela, nous avons défini un dictionnaire `parametres` qui garde en mémoire toute sorte d'informations.\n",
    "\n",
    "- Data: informations sur les données utilisées (taille, augmentation ...)\n",
    "- Structure: les informations concernant la structure du réseau\n",
    "- Training: informations concernant les paramètre d'entrainement du réseau (learning_rate ...)\n",
    "- Results: informations sur les résultats obtenues. (accuracy, loss, validation_accuracy ainsi que l'historique...)"
   ]
  },
  {
   "cell_type": "code",
   "execution_count": 5,
   "metadata": {},
   "outputs": [],
   "source": [
    "model_config = json.loads(model.to_json())\n",
    "\n",
    "layers_information = []\n",
    "l=model_config['config']['layers']\n",
    "\n",
    "for i in range(len(l)):\n",
    "    layers_information.append({\n",
    "        'type': l[i]['class_name'],\n",
    "        'config': l[i]['config']\n",
    "    })\n",
    "\n",
    "parametres['structure'] = {'layers' : layers_information}"
   ]
  },
  {
   "cell_type": "markdown",
   "metadata": {},
   "source": [
    "## Model training"
   ]
  },
  {
   "cell_type": "code",
   "execution_count": 6,
   "metadata": {},
   "outputs": [],
   "source": [
    "# Compiling model\n",
    "\n",
    "## training parameters\n",
    "learning_rate = 0.001\n",
    "loss='mean_squared_error'\n",
    "#loss='categorical_crossentropy'\n",
    "optimizers={'adam':Adam(learning_rate=learning_rate)}\n",
    "optimizer = 'adam'\n",
    "metrics=['accuracy']\n",
    "epochs=5\n",
    "batch_size=128\n",
    "\n",
    "parametres['training'] = {\n",
    "    'learning_rate': learning_rate,\n",
    "    'loss': loss,\n",
    "    'optimizer': optimizer,\n",
    "    'metrics': metrics,\n",
    "    'epochs': epochs,\n",
    "    'batch_size': batch_size\n",
    "}"
   ]
  },
  {
   "cell_type": "code",
   "execution_count": 7,
   "metadata": {},
   "outputs": [],
   "source": [
    "model.compile(optimizer=optimizers[optimizer],\n",
    "              loss=loss,\n",
    "              metrics=metrics)"
   ]
  },
  {
   "cell_type": "code",
   "execution_count": 8,
   "metadata": {},
   "outputs": [
    {
     "name": "stderr",
     "output_type": "stream",
     "text": [
      "2021-12-09 11:51:23.704954: W tensorflow/core/framework/cpu_allocator_impl.cc:80] Allocation of 614400000 exceeds 10% of free system memory.\n",
      "2021-12-09 11:51:24.479828: I tensorflow/compiler/mlir/mlir_graph_optimization_pass.cc:185] None of the MLIR Optimization Passes are enabled (registered 2)\n"
     ]
    },
    {
     "name": "stdout",
     "output_type": "stream",
     "text": [
      "Epoch 1/5\n",
      "391/391 [==============================] - 54s 132ms/step - loss: 0.0671 - accuracy: 0.4622 - val_loss: 0.0580 - val_accuracy: 0.5567\n",
      "Epoch 2/5\n",
      "391/391 [==============================] - 48s 123ms/step - loss: 0.0514 - accuracy: 0.6133 - val_loss: 0.0499 - val_accuracy: 0.6257\n",
      "Epoch 3/5\n",
      "391/391 [==============================] - 50s 129ms/step - loss: 0.0442 - accuracy: 0.6753 - val_loss: 0.0443 - val_accuracy: 0.6717\n",
      "Epoch 4/5\n",
      "391/391 [==============================] - 46s 117ms/step - loss: 0.0391 - accuracy: 0.7175 - val_loss: 0.0407 - val_accuracy: 0.7027\n",
      "Epoch 5/5\n",
      "391/391 [==============================] - 42s 107ms/step - loss: 0.0350 - accuracy: 0.7491 - val_loss: 0.0403 - val_accuracy: 0.7083\n"
     ]
    }
   ],
   "source": [
    "history = model.fit(x_train, y_train, epochs=epochs,batch_size=batch_size, \n",
    "                    validation_data=(x_test, y_test))\n",
    "\n",
    "history2 = None"
   ]
  },
  {
   "cell_type": "code",
   "execution_count": 9,
   "metadata": {},
   "outputs": [],
   "source": [
    "def plot_accuracy(history,h2=None):\n",
    "    if (h2):\n",
    "        plt.plot(history.history['accuracy']+h2.history['accuracy'], label='accuracy')\n",
    "        plt.plot(history.history['val_accuracy']+h2.history['val_accuracy'], label = 'val_accuracy')\n",
    "    else:\n",
    "        plt.plot(history.history['accuracy'], label='accuracy')\n",
    "        plt.plot(history.history['val_accuracy'], label = 'val_accuracy')\n",
    "\n",
    "    plt.xlabel('Epoch')\n",
    "    plt.ylabel('Accuracy')\n",
    "    plt.legend(loc='lower right')\n",
    "    \n",
    "def plot_loss(history,h2=None):\n",
    "    if (h2):\n",
    "        plt.plot(history.history['loss']+h2.history['loss'], label='loss')\n",
    "        plt.plot(history.history['val_loss']+h2.history['val_loss'], label = 'val_loss')\n",
    "    else:\n",
    "        plt.plot(history.history['loss'], label='loss')\n",
    "        plt.plot(history.history['val_loss'], label='val_loss')\n",
    "    \n",
    "    plt.xlabel('Epoch')\n",
    "    plt.ylabel('Loss')\n",
    "    plt.legend(loc='upper right')"
   ]
  },
  {
   "cell_type": "code",
   "execution_count": 10,
   "metadata": {},
   "outputs": [
    {
     "data": {
      "image/png": "[encoded data removed]",
      "text/plain": [
       "<Figure size 432x288 with 1 Axes>"
      ]
     },
     "metadata": {
      "needs_background": "light"
     },
     "output_type": "display_data"
    },
    {
     "data": {
      "image/png": "[encoded data removed]",
      "text/plain": [
       "<Figure size 432x288 with 1 Axes>"
      ]
     },
     "metadata": {
      "needs_background": "light"
     },
     "output_type": "display_data"
    },
    {
     "name": "stdout",
     "output_type": "stream",
     "text": [
      "313/313 - 4s - loss: 0.0403 - accuracy: 0.7083\n",
      "Test accuracy: 0.708299994468689\n",
      "Test loss: 0.040251195430755615\n"
     ]
    },
    {
     "name": "stderr",
     "output_type": "stream",
     "text": [
      "2021-12-09 11:55:32.599016: W tensorflow/core/framework/cpu_allocator_impl.cc:80] Allocation of 614400000 exceeds 10% of free system memory.\n"
     ]
    },
    {
     "name": "stdout",
     "output_type": "stream",
     "text": [
      "1563/1563 - 14s - loss: 0.0311 - accuracy: 0.7830\n",
      "train accuracy: 0.7829599976539612\n",
      "Train loss: 0.031059807166457176\n"
     ]
    }
   ],
   "source": [
    "# Evaluation\n",
    "plot_accuracy(history,history2)\n",
    "plt.show()\n",
    "plot_loss(history,history2)\n",
    "plt.show()\n",
    "test_loss, test_acc = model.evaluate(x_test,  y_test, verbose=2)\n",
    "print(f\"Test accuracy: {test_acc}\\nTest loss: {test_loss}\")\n",
    "train_loss, train_acc = model.evaluate(x_train,  y_train, verbose=2)\n",
    "print(f\"train accuracy: {train_acc}\\nTrain loss: {train_loss}\")\n",
    "\n",
    "if history2:\n",
    "    parametres['results'] = {\n",
    "        'acc' : train_acc,\n",
    "        'val_acc': test_acc,\n",
    "        'loss': train_loss,\n",
    "        'val_loss': test_loss,\n",
    "        'acc_hist': history.history['accuracy']+history2.history['accuracy'],\n",
    "        'val_acc_hist': history.history['val_accuracy']+history2.history['val_accuracy'],\n",
    "        'loss_hist': history.history['loss']+history2.history['loss'],\n",
    "        'val_loss_hist': history.history['val_loss']+history2.history['val_loss']\n",
    "    }\n",
    "else:\n",
    "    parametres['results'] = {\n",
    "        'acc' : train_acc,\n",
    "        'val_acc': test_acc,\n",
    "        'loss': train_loss,\n",
    "        'val_loss': test_loss,\n",
    "        'acc_hist': history.history['accuracy'],\n",
    "        'val_acc_hist': history.history['val_accuracy'],\n",
    "        'loss_hist': history.history['loss'],\n",
    "        'val_loss_hist': history.history['val_loss']\n",
    "    }"
   ]
  },
  {
   "cell_type": "markdown",
   "metadata": {},
   "source": [
    "## Saving the model\n",
    "\n",
    "lets save the model in an external file "
   ]
  },
  {
   "cell_type": "code",
   "execution_count": 11,
   "metadata": {},
   "outputs": [],
   "source": [
    "#json file containing all model informations\n",
    "def save_in_json(file_name, model, parametres):\n",
    "    d = '/'.join(file_name.split('/')[0:-1])\n",
    "    if d:\n",
    "        d += '/'\n",
    "        \n",
    "    if (not os.path.isfile(file_name)):\n",
    "        data = {}\n",
    "    else:\n",
    "        with open(file_name, 'r') as json_file:\n",
    "            data = json.load(json_file)\n",
    "    t=str(time.time()).split('.')[0]\n",
    "    name = d+f'model-{t}.h5'\n",
    "    \n",
    "    data[f'model-{t}.h5'] = {\n",
    "        'time': str(time.time()).split('.')[0],\n",
    "        'structure': parametres['structure'],\n",
    "        'training': parametres['training'],\n",
    "        'data': parametres['data'],\n",
    "        'results': parametres['results']\n",
    "    }\n",
    "    \n",
    "    with open(file_name, 'w') as json_file:\n",
    "        json.dump(data, json_file)\n",
    "    \n",
    "    # save the model in the file\n",
    "    model.save(name)"
   ]
  },
  {
   "cell_type": "code",
   "execution_count": 15,
   "metadata": {},
   "outputs": [],
   "source": [
    "filename = '../saved-models/informations.json'\n",
    "save_in_json(filename, model, parametres)"
   ]
  },
  {
   "cell_type": "code",
   "execution_count": null,
   "metadata": {},
   "outputs": [],
   "source": []
  }
 ],
 "metadata": {
  "kernelspec": {
   "display_name": "Python 3 (ipykernel)",
   "language": "python",
   "name": "python3"
  },
  "language_info": {
   "codemirror_mode": {
    "name": "ipython",
    "version": 3
   },
   "file_extension": ".py",
   "mimetype": "text/x-python",
   "name": "python",
   "nbconvert_exporter": "python",
   "pygments_lexer": "ipython3",
   "version": "3.9.5"
  }
 },
 "nbformat": 4,
 "nbformat_minor": 4
}
