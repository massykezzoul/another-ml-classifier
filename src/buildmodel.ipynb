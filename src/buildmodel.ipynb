{
 "cells": [
  {
   "cell_type": "markdown",
   "metadata": {},
   "source": [
    "# Build a CNN model"
   ]
  },
  {
   "cell_type": "code",
   "execution_count": 1,
   "metadata": {},
   "outputs": [],
   "source": [
    "import tensorflow as tf\n",
    "\n",
    "from tensorflow.keras import datasets, layers, models\n",
    "from tensorflow.keras.optimizers import Adam\n",
    "import matplotlib.pyplot as plt\n",
    "\n",
    "from tools import pretraitement\n",
    "import random\n",
    "import os"
   ]
  },
  {
   "cell_type": "code",
   "execution_count": 2,
   "metadata": {},
   "outputs": [],
   "source": [
    "# Chargement du jeu de données\n",
    "(x_train_origin, y_train_origin), (x_test_origin, y_test_origin) = tf.keras.datasets.cifar10.load_data()\n",
    "assert x_train_origin.shape == (50000, 32, 32, 3)\n",
    "assert x_test_origin.shape == (10000, 32, 32, 3)\n",
    "assert y_train_origin.shape == (50000, 1)\n",
    "assert y_test_origin.shape == (10000, 1)"
   ]
  },
  {
   "cell_type": "code",
   "execution_count": 3,
   "metadata": {},
   "outputs": [],
   "source": [
    "# pretraitement des données\n",
    "(x_train, y_train) = pretraitement.normalize_dataset(x_train_origin, y_train_origin)\n",
    "\n",
    "(x_test, y_test) = pretraitement.normalize_dataset(x_test_origin, y_test_origin)"
   ]
  },
  {
   "cell_type": "code",
   "execution_count": 4,
   "metadata": {},
   "outputs": [],
   "source": [
    "assert x_train.shape == (50000, 32, 32, 3)\n",
    "assert x_test.shape == (10000, 32, 32, 3)\n",
    "assert y_train.shape == (50000, 10)\n",
    "assert y_test.shape == (10000, 10)"
   ]
  },
  {
   "cell_type": "code",
   "execution_count": 9,
   "metadata": {},
   "outputs": [],
   "source": [
    "# Construction d'un CNN\n",
    "\n",
    "# La base CNN\n",
    "model = models.Sequential()\n",
    "model.add(layers.Conv2D(32, (3, 3), activation='relu', input_shape=(32, 32, 3)))\n",
    "model.add(layers.MaxPooling2D((2, 2)))\n",
    "model.add(layers.Conv2D(64, (3, 3), activation='relu'))\n",
    "model.add(layers.MaxPooling2D((2, 2)))\n",
    "model.add(layers.Conv2D(64, (3, 3), activation='relu'))\n",
    "model.add(layers.MaxPooling2D((2, 2))) \n",
    "\n",
    "# Ajout de couches denses vers la fin du model\n",
    "model.add(layers.Flatten())\n",
    "model.add(layers.Dense(64, activation='relu'))\n",
    "model.add(layers.Dropout(0.5))\n",
    "model.add(layers.Dense(10, activation='softmax'))"
   ]
  },
  {
   "cell_type": "code",
   "execution_count": 6,
   "metadata": {},
   "outputs": [
    {
     "name": "stdout",
     "output_type": "stream",
     "text": [
      "Model: \"sequential\"\n",
      "_________________________________________________________________\n",
      " Layer (type)                Output Shape              Param #   \n",
      "=================================================================\n",
      " conv2d (Conv2D)             (None, 30, 30, 32)        896       \n",
      "                                                                 \n",
      " max_pooling2d (MaxPooling2D  (None, 15, 15, 32)       0         \n",
      " )                                                               \n",
      "                                                                 \n",
      " conv2d_1 (Conv2D)           (None, 13, 13, 64)        18496     \n",
      "                                                                 \n",
      " max_pooling2d_1 (MaxPooling  (None, 6, 6, 64)         0         \n",
      " 2D)                                                             \n",
      "                                                                 \n",
      " conv2d_2 (Conv2D)           (None, 4, 4, 64)          36928     \n",
      "                                                                 \n",
      " flatten (Flatten)           (None, 1024)              0         \n",
      "                                                                 \n",
      " dense (Dense)               (None, 64)                65600     \n",
      "                                                                 \n",
      " dropout (Dropout)           (None, 64)                0         \n",
      "                                                                 \n",
      " dense_1 (Dense)             (None, 10)                650       \n",
      "                                                                 \n",
      "=================================================================\n",
      "Total params: 122,570\n",
      "Trainable params: 122,570\n",
      "Non-trainable params: 0\n",
      "_________________________________________________________________\n"
     ]
    }
   ],
   "source": [
    "# Model summary\n",
    "model.summary()"
   ]
  },
  {
   "cell_type": "markdown",
   "metadata": {},
   "source": [
    "## Model training"
   ]
  },
  {
   "cell_type": "code",
   "execution_count": 10,
   "metadata": {},
   "outputs": [],
   "source": [
    "# Compiling model\n",
    "\n",
    "learning_rate = 0.001\n",
    "loss='mean_squared_error'\n",
    "#loss = tf.keras.losses.SparseCategoricalCrossentropy(from_logits=True),\n",
    "metrics=['accuracy']\n",
    "\n",
    "model.compile(optimizer=Adam(learning_rate=learning_rate),\n",
    "              loss=loss,\n",
    "              metrics=metrics)"
   ]
  },
  {
   "cell_type": "code",
   "execution_count": null,
   "metadata": {},
   "outputs": [
    {
     "name": "stdout",
     "output_type": "stream",
     "text": [
      "Epoch 1/10\n",
      "1563/1563 [==============================] - 28s 17ms/step - loss: 0.0776 - accuracy: 0.3333 - val_loss: 0.0647 - val_accuracy: 0.4863\n",
      "Epoch 2/10\n",
      "1563/1563 [==============================] - 27s 17ms/step - loss: 0.0654 - accuracy: 0.4819 - val_loss: 0.0593 - val_accuracy: 0.5348\n",
      "Epoch 3/10\n",
      "1563/1563 [==============================] - 27s 17ms/step - loss: 0.0601 - accuracy: 0.5335 - val_loss: 0.0544 - val_accuracy: 0.5830\n",
      "Epoch 4/10\n",
      "1563/1563 [==============================] - 26s 17ms/step - loss: 0.0569 - accuracy: 0.5635 - val_loss: 0.0528 - val_accuracy: 0.5963\n",
      "Epoch 5/10\n",
      "1563/1563 [==============================] - 27s 18ms/step - loss: 0.0541 - accuracy: 0.5876 - val_loss: 0.0502 - val_accuracy: 0.6195\n",
      "Epoch 6/10\n",
      "1563/1563 [==============================] - 27s 17ms/step - loss: 0.0520 - accuracy: 0.6096 - val_loss: 0.0496 - val_accuracy: 0.6289\n",
      "Epoch 7/10\n",
      "1563/1563 [==============================] - 27s 17ms/step - loss: 0.0503 - accuracy: 0.6246 - val_loss: 0.0483 - val_accuracy: 0.6446\n",
      "Epoch 8/10\n",
      "1563/1563 [==============================] - 27s 17ms/step - loss: 0.0483 - accuracy: 0.6417 - val_loss: 0.0470 - val_accuracy: 0.6515\n",
      "Epoch 9/10\n",
      "1508/1563 [===========================>..] - ETA: 0s - loss: 0.0471 - accuracy: 0.6517"
     ]
    }
   ],
   "source": [
    "#fit\n",
    "history = model.fit(x_train, y_train, epochs=10,#batch_size=150, \n",
    "                    validation_data=(x_test, y_test))\n"
   ]
  },
  {
   "cell_type": "code",
   "execution_count": 9,
   "metadata": {},
   "outputs": [],
   "source": [
    "def plot_accuracy(history):\n",
    "    plt.plot(history.history['accuracy'], label='accuracy')\n",
    "    plt.plot(history.history['val_accuracy'], label = 'val_accuracy')\n",
    "\n",
    "    plt.xlabel('Epoch')\n",
    "    plt.ylabel('Accuracy')\n",
    "    plt.legend(loc='lower right')\n",
    "    \n",
    "def plot_loss(history):\n",
    "    plt.plot(history.history['loss'], label='loss')\n",
    "    plt.plot(history.history['val_loss'], label='val_loss')\n",
    "    \n",
    "    plt.xlabel('Epoch')\n",
    "    plt.ylabel('Loss')\n",
    "    plt.legend(loc='upper right')"
   ]
  },
  {
   "cell_type": "code",
   "execution_count": 10,
   "metadata": {},
   "outputs": [
    {
     "data": {
      "image/png": "[encoded data removed]",
      "text/plain": [
       "<Figure size 432x288 with 1 Axes>"
      ]
     },
     "metadata": {
      "needs_background": "light"
     },
     "output_type": "display_data"
    },
    {
     "data": {
      "image/png": "[encoded data removed]",
      "text/plain": [
       "<Figure size 432x288 with 1 Axes>"
      ]
     },
     "metadata": {
      "needs_background": "light"
     },
     "output_type": "display_data"
    },
    {
     "name": "stdout",
     "output_type": "stream",
     "text": [
      "313/313 - 1s - loss: 0.0421 - accuracy: 0.6915 - 1s/epoch - 4ms/step\n",
      "Test accuracy: 0.6915000081062317\n",
      "Test loss: 0.042116645723581314\n"
     ]
    }
   ],
   "source": [
    "# Evaluation\n",
    "plot_accuracy(history)\n",
    "plt.show()\n",
    "plot_loss(history)\n",
    "plt.show()\n",
    "test_loss, test_acc = model.evaluate(x_test,  y_test, verbose=2)\n",
    "print(f\"Test accuracy: {test_acc}\\nTest loss: {test_loss}\")"
   ]
  },
  {
   "cell_type": "code",
   "execution_count": null,
   "metadata": {},
   "outputs": [],
   "source": []
  }
 ],
 "metadata": {
  "kernelspec": {
   "display_name": "Python 3",
   "language": "python",
   "name": "python3"
  },
  "language_info": {
   "codemirror_mode": {
    "name": "ipython",
    "version": 3
   },
   "file_extension": ".py",
   "mimetype": "text/x-python",
   "name": "python",
   "nbconvert_exporter": "python",
   "pygments_lexer": "ipython3",
   "version": "3.8.10"
  }
 },
 "nbformat": 4,
 "nbformat_minor": 4
}
