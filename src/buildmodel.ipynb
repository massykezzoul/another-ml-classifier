{
 "cells": [
  {
   "cell_type": "markdown",
   "metadata": {},
   "source": [
    "# Build a CNN model"
   ]
  },
  {
   "cell_type": "code",
   "execution_count": 1,
   "metadata": {},
   "outputs": [
    {
     "name": "stderr",
     "output_type": "stream",
     "text": [
      "2021-12-07 14:56:07.821406: W tensorflow/stream_executor/platform/default/dso_loader.cc:64] Could not load dynamic library 'libcudart.so.11.0'; dlerror: libcudart.so.11.0: cannot open shared object file: No such file or directory\n",
      "2021-12-07 14:56:07.821497: I tensorflow/stream_executor/cuda/cudart_stub.cc:29] Ignore above cudart dlerror if you do not have a GPU set up on your machine.\n"
     ]
    }
   ],
   "source": [
    "import tensorflow as tf\n",
    "\n",
    "from tensorflow.keras import datasets, layers, models\n",
    "from tensorflow.keras.optimizers import Adam\n",
    "import matplotlib.pyplot as plt\n",
    "\n",
    "from tools import pretraitement\n",
    "import random\n",
    "import os\n",
    "import json"
   ]
  },
  {
   "cell_type": "code",
   "execution_count": 2,
   "metadata": {},
   "outputs": [],
   "source": [
    "# Chargement du jeu de données\n",
    "(x_train_origin, y_train_origin), (x_test_origin, y_test_origin) = tf.keras.datasets.cifar10.load_data()\n",
    "assert x_train_origin.shape == (50000, 32, 32, 3)\n",
    "assert x_test_origin.shape == (10000, 32, 32, 3)\n",
    "assert y_train_origin.shape == (50000, 1)\n",
    "assert y_test_origin.shape == (10000, 1)"
   ]
  },
  {
   "cell_type": "code",
   "execution_count": 3,
   "metadata": {},
   "outputs": [],
   "source": [
    "# pretraitement des données\n",
    "(x_train, y_train) = pretraitement.normalize_dataset(x_train_origin, y_train_origin)\n",
    "\n",
    "(x_test, y_test) = pretraitement.normalize_dataset(x_test_origin, y_test_origin)"
   ]
  },
  {
   "cell_type": "code",
   "execution_count": 4,
   "metadata": {},
   "outputs": [],
   "source": [
    "assert x_train.shape == (50000, 32, 32, 3)\n",
    "assert x_test.shape == (10000, 32, 32, 3)\n",
    "assert y_train.shape == (50000, 10)\n",
    "assert y_test.shape == (10000, 10)"
   ]
  },
  {
   "cell_type": "code",
   "execution_count": 6,
   "metadata": {},
   "outputs": [],
   "source": [
    "# Construction d'un CNN\n",
    "\n",
    "# La base CNN\n",
    "model = models.Sequential()\n",
    "model.add(layers.Conv2D(32, (3, 3), activation='relu', input_shape=(32, 32, 3)))\n",
    "model.add(layers.MaxPooling2D((2, 2)))\n",
    "model.add(layers.Conv2D(64, (3, 3), activation='relu'))\n",
    "model.add(layers.MaxPooling2D((2, 2)))\n",
    "model.add(layers.Conv2D(64, (3, 3), activation='relu'))\n",
    "model.add(layers.MaxPooling2D((2, 2))) \n",
    "\n",
    "# Ajout de couches denses vers la fin du model\n",
    "model.add(layers.Flatten())\n",
    "model.add(layers.Dense(64, activation='relu'))\n",
    "model.add(layers.Dropout(0.5))\n",
    "model.add(layers.Dense(10, activation='softmax'))"
   ]
  },
  {
   "cell_type": "code",
   "execution_count": 21,
   "metadata": {},
   "outputs": [
    {
     "name": "stdout",
     "output_type": "stream",
     "text": [
      "['InputLayer', 'Conv2D', 'MaxPooling2D', 'Conv2D', 'MaxPooling2D', 'Conv2D', 'MaxPooling2D', 'Flatten', 'Dense', 'Dropout', 'Dense']\n"
     ]
    }
   ],
   "source": [
    "model_config = json.loads(model.to_json())\n",
    "layers = [layer['class_name'] for layer in model_config['config']['layers']]"
   ]
  },
  {
   "cell_type": "markdown",
   "metadata": {},
   "source": [
    "## Model training"
   ]
  },
  {
   "cell_type": "code",
   "execution_count": 6,
   "metadata": {},
   "outputs": [],
   "source": [
    "# Compiling model\n",
    "\n",
    "## training parameters\n",
    "learning_rate = 0.001\n",
    "loss='mean_squared_error'\n",
    "#loss='categorical_crossentropy'\n",
    "optimizers={'adam'=Adam(learning_rate=learning_rate)}\n",
    "optimizer = 'adam'\n",
    "metrics=['accuracy']\n",
    "epochs=20\n",
    "batch_size=32"
   ]
  },
  {
   "cell_type": "code",
   "execution_count": null,
   "metadata": {},
   "outputs": [],
   "source": [
    "model.compile(optimizer=optimizers[optimizer],\n",
    "              loss=loss,\n",
    "              metrics=metrics)"
   ]
  },
  {
   "cell_type": "code",
   "execution_count": 7,
   "metadata": {},
   "outputs": [
    {
     "name": "stderr",
     "output_type": "stream",
     "text": [
      "2021-12-03 10:49:24.340324: W tensorflow/core/framework/cpu_allocator_impl.cc:80] Allocation of 614400000 exceeds 10% of free system memory.\n",
      "2021-12-03 10:49:54.584571: I tensorflow/compiler/mlir/mlir_graph_optimization_pass.cc:185] None of the MLIR Optimization Passes are enabled (registered 2)\n"
     ]
    },
    {
     "name": "stdout",
     "output_type": "stream",
     "text": [
      "Epoch 1/20\n",
      "1563/1563 [==============================] - ETA: 0s - loss: 0.0777 - accuracy: 0.3328"
     ]
    },
    {
     "name": "stderr",
     "output_type": "stream",
     "text": [
      "2021-12-03 10:52:25.112557: W tensorflow/core/framework/cpu_allocator_impl.cc:80] Allocation of 122880000 exceeds 10% of free system memory.\n"
     ]
    },
    {
     "name": "stdout",
     "output_type": "stream",
     "text": [
      "1563/1563 [==============================] - 150s 88ms/step - loss: 0.0777 - accuracy: 0.3328 - val_loss: 0.0650 - val_accuracy: 0.4887\n",
      "Epoch 2/20\n",
      "1563/1563 [==============================] - 129s 82ms/step - loss: 0.0653 - accuracy: 0.4851 - val_loss: 0.0591 - val_accuracy: 0.5408\n",
      "Epoch 3/20\n",
      "1563/1563 [==============================] - 140s 90ms/step - loss: 0.0598 - accuracy: 0.5345 - val_loss: 0.0542 - val_accuracy: 0.5856\n",
      "Epoch 4/20\n",
      "1563/1563 [==============================] - 82s 53ms/step - loss: 0.0564 - accuracy: 0.5678 - val_loss: 0.0523 - val_accuracy: 0.5937\n",
      "Epoch 5/20\n",
      "1563/1563 [==============================] - 134s 86ms/step - loss: 0.0538 - accuracy: 0.5914 - val_loss: 0.0505 - val_accuracy: 0.6184\n",
      "Epoch 6/20\n",
      "1563/1563 [==============================] - 109s 70ms/step - loss: 0.0515 - accuracy: 0.6118 - val_loss: 0.0494 - val_accuracy: 0.6258\n",
      "Epoch 7/20\n",
      "1563/1563 [==============================] - 96s 61ms/step - loss: 0.0497 - accuracy: 0.6310 - val_loss: 0.0480 - val_accuracy: 0.6407\n",
      "Epoch 8/20\n",
      "1563/1563 [==============================] - 60s 38ms/step - loss: 0.0479 - accuracy: 0.6437 - val_loss: 0.0460 - val_accuracy: 0.6571\n",
      "Epoch 9/20\n",
      "1563/1563 [==============================] - 78s 50ms/step - loss: 0.0467 - accuracy: 0.6563 - val_loss: 0.0461 - val_accuracy: 0.6569\n",
      "Epoch 10/20\n",
      "1563/1563 [==============================] - 96s 62ms/step - loss: 0.0453 - accuracy: 0.6680 - val_loss: 0.0448 - val_accuracy: 0.6644\n",
      "Epoch 11/20\n",
      "1563/1563 [==============================] - 332s 212ms/step - loss: 0.0443 - accuracy: 0.6771 - val_loss: 0.0454 - val_accuracy: 0.6658\n",
      "Epoch 12/20\n",
      "1563/1563 [==============================] - 76s 48ms/step - loss: 0.0433 - accuracy: 0.6846 - val_loss: 0.0465 - val_accuracy: 0.6557\n",
      "Epoch 13/20\n",
      "1563/1563 [==============================] - 97s 62ms/step - loss: 0.0423 - accuracy: 0.6936 - val_loss: 0.0432 - val_accuracy: 0.6826\n",
      "Epoch 14/20\n",
      "1563/1563 [==============================] - 92s 59ms/step - loss: 0.0416 - accuracy: 0.6997 - val_loss: 0.0451 - val_accuracy: 0.6711\n",
      "Epoch 15/20\n",
      "1563/1563 [==============================] - 90s 58ms/step - loss: 0.0404 - accuracy: 0.7077 - val_loss: 0.0427 - val_accuracy: 0.6925\n",
      "Epoch 16/20\n",
      "1563/1563 [==============================] - 71s 45ms/step - loss: 0.0397 - accuracy: 0.7140 - val_loss: 0.0439 - val_accuracy: 0.6852\n",
      "Epoch 17/20\n",
      "1563/1563 [==============================] - 80s 51ms/step - loss: 0.0394 - accuracy: 0.7157 - val_loss: 0.0425 - val_accuracy: 0.6913\n",
      "Epoch 18/20\n",
      "1563/1563 [==============================] - 90s 58ms/step - loss: 0.0387 - accuracy: 0.7227 - val_loss: 0.0422 - val_accuracy: 0.6909\n",
      "Epoch 19/20\n",
      "1563/1563 [==============================] - 93s 59ms/step - loss: 0.0383 - accuracy: 0.7264 - val_loss: 0.0427 - val_accuracy: 0.6941\n",
      "Epoch 20/20\n",
      "1563/1563 [==============================] - 90s 57ms/step - loss: 0.0374 - accuracy: 0.7332 - val_loss: 0.0421 - val_accuracy: 0.6986\n"
     ]
    }
   ],
   "source": [
    "#fit\n",
    "history = model.fit(x_train, y_train, epochs=epochs,batch_size=batch_size, \n",
    "                    validation_data=(x_test, y_test))\n"
   ]
  },
  {
   "cell_type": "code",
   "execution_count": 8,
   "metadata": {},
   "outputs": [],
   "source": [
    "def plot_accuracy(history):\n",
    "    plt.plot(history.history['accuracy'], label='accuracy')\n",
    "    plt.plot(history.history['val_accuracy'], label = 'val_accuracy')\n",
    "\n",
    "    plt.xlabel('Epoch')\n",
    "    plt.ylabel('Accuracy')\n",
    "    plt.legend(loc='lower right')\n",
    "    \n",
    "def plot_loss(history):\n",
    "    plt.plot(history.history['loss'], label='loss')\n",
    "    plt.plot(history.history['val_loss'], label='val_loss')\n",
    "    \n",
    "    plt.xlabel('Epoch')\n",
    "    plt.ylabel('Loss')\n",
    "    plt.legend(loc='upper right')"
   ]
  },
  {
   "cell_type": "code",
   "execution_count": 9,
   "metadata": {},
   "outputs": [
    {
     "data": {
      "image/png": "[encoded data removed]",
      "text/plain": [
       "<Figure size 432x288 with 1 Axes>"
      ]
     },
     "metadata": {
      "needs_background": "light"
     },
     "output_type": "display_data"
    },
    {
     "data": {
      "image/png": "[encoded data removed]",
      "text/plain": [
       "<Figure size 432x288 with 1 Axes>"
      ]
     },
     "metadata": {
      "needs_background": "light"
     },
     "output_type": "display_data"
    },
    {
     "name": "stderr",
     "output_type": "stream",
     "text": [
      "2021-12-03 11:26:32.130900: W tensorflow/core/framework/cpu_allocator_impl.cc:80] Allocation of 122880000 exceeds 10% of free system memory.\n"
     ]
    },
    {
     "name": "stdout",
     "output_type": "stream",
     "text": [
      "313/313 - 2s - loss: 0.0421 - accuracy: 0.6986\n",
      "Test accuracy: 0.6985999941825867\n",
      "Test loss: 0.042110029608011246\n"
     ]
    }
   ],
   "source": [
    "# Evaluation\n",
    "plot_accuracy(history)\n",
    "plt.show()\n",
    "plot_loss(history)\n",
    "plt.show()\n",
    "test_loss, test_acc = model.evaluate(x_test,  y_test, verbose=2)\n",
    "print(f\"Test accuracy: {test_acc}\\nTest loss: {test_loss}\")"
   ]
  },
  {
   "cell_type": "markdown",
   "metadata": {},
   "source": [
    "## Saving the model\n",
    "\n",
    "lets save the model in an external file "
   ]
  },
  {
   "cell_type": "code",
   "execution_count": null,
   "metadata": {},
   "outputs": [],
   "source": [
    "#json file containing all model informations\n",
    "json_file='informations.json'\n",
    "\n",
    "model_information = {'layers'=layers}\n",
    "model_name = 'model-first'+'.h5'\n",
    "\n",
    "model_information['training']=training_info"
   ]
  }
 ],
 "metadata": {
  "kernelspec": {
   "display_name": "Python 3 (ipykernel)",
   "language": "python",
   "name": "python3"
  },
  "language_info": {
   "codemirror_mode": {
    "name": "ipython",
    "version": 3
   },
   "file_extension": ".py",
   "mimetype": "text/x-python",
   "name": "python",
   "nbconvert_exporter": "python",
   "pygments_lexer": "ipython3",
   "version": "3.9.5"
  }
 },
 "nbformat": 4,
 "nbformat_minor": 4
}
