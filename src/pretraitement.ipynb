{
 "cells": [
  {
   "cell_type": "markdown",
   "metadata": {},
   "source": [
    "# Pretraitement des données\n"
   ]
  },
  {
   "cell_type": "code",
   "execution_count": 4,
   "metadata": {},
   "outputs": [],
   "source": [
    "import tensorflow as tf\n",
    "import tensorflow.keras\n",
    "import numpy as np\n",
    "from matplotlib import pyplot as plt\n",
    "\n",
    "import random"
   ]
  },
  {
   "cell_type": "code",
   "execution_count": 2,
   "metadata": {},
   "outputs": [],
   "source": [
    "# Chargement du jeu de données\n",
    "(x_train, y_train), (x_test, y_test) = tf.keras.datasets.cifar10.load_data()\n",
    "assert x_train.shape == (50000, 32, 32, 3)\n",
    "assert x_test.shape == (10000, 32, 32, 3)\n",
    "assert y_train.shape == (50000, 1)\n",
    "assert y_test.shape == (10000, 1)"
   ]
  },
  {
   "cell_type": "code",
   "execution_count": 5,
   "metadata": {},
   "outputs": [
    {
     "name": "stdout",
     "output_type": "stream",
     "text": [
      "Nombre d'images : 50000\n",
      "Forme d'une image : (32, 32, 3)\n",
      "Un pixel : [ 92 121  52]\n",
      "Frome d'un pixel : (3,)\n"
     ]
    }
   ],
   "source": [
    "image = random.choice(x_train)\n",
    "\n",
    "print(f\"Nombre d'images : {len(x_train)}\")\n",
    "print(f\"Forme d'une image : {image.shape}\")\n",
    "print(f\"Un pixel : {image[0][0]}\")\n",
    "print(f\"Frome d'un pixel : {image[0][0].shape}\")"
   ]
  },
  {
   "cell_type": "code",
   "execution_count": 10,
   "metadata": {},
   "outputs": [],
   "source": [
    "# Normalizatoion\n",
    "tmp = x_train.astype(\"float32\") / np.amax(x_train)"
   ]
  },
  {
   "cell_type": "code",
   "execution_count": 11,
   "metadata": {
    "scrolled": true
   },
   "outputs": [
    {
     "name": "stdout",
     "output_type": "stream",
     "text": [
      "Nombre d'images : 50000\n",
      "Forme d'une image : (32, 32, 3)\n",
      "Un pixel : [0.61960787 0.25882354 0.03921569]\n",
      "Frome d'un pixel : (3,)\n"
     ]
    }
   ],
   "source": [
    "image = random.choice(tmp)\n",
    "\n",
    "print(f\"Nombre d'images : {len(x_train)}\")\n",
    "print(f\"Forme d'une image : {image.shape}\")\n",
    "print(f\"Un pixel : {image[0][0]}\")\n",
    "print(f\"Frome d'un pixel : {image[0][0].shape}\")"
   ]
  },
  {
   "cell_type": "code",
   "execution_count": 14,
   "metadata": {},
   "outputs": [
    {
     "name": "stdout",
     "output_type": "stream",
     "text": [
      "Label:  [7]\n",
      "Nombre de label: 50000\n",
      "Forme des labels : (50000, 1)\n"
     ]
    }
   ],
   "source": [
    "label = random.choice(y_train)\n",
    "\n",
    "print(\"Label: \", label)\n",
    "print(f\"Nombre de label: {len(y_train)}\")\n",
    "print(f\"Forme des labels : {y_train.shape}\")"
   ]
  },
  {
   "cell_type": "code",
   "execution_count": 19,
   "metadata": {},
   "outputs": [],
   "source": [
    "# one hot encoding\n",
    "unique_y = np.sort(np.unique(y_train))\n",
    "y_tmp = np.array(list(map(lambda x: [1 if x == k else 0 for k in unique_y], y_train)))"
   ]
  },
  {
   "cell_type": "code",
   "execution_count": 20,
   "metadata": {},
   "outputs": [
    {
     "name": "stdout",
     "output_type": "stream",
     "text": [
      "Label:  [0 1 0 0 0 0 0 0 0 0]\n",
      "Nombre de label: 50000\n",
      "Forme des labels : (50000, 1)\n"
     ]
    }
   ],
   "source": [
    "label = random.choice(y_tmp)\n",
    "\n",
    "print(\"Label: \", label)\n",
    "print(f\"Nombre de label: {len(y_train)}\")\n",
    "print(f\"Forme des labels : {y_train.shape}\")"
   ]
  },
  {
   "cell_type": "code",
   "execution_count": 21,
   "metadata": {},
   "outputs": [],
   "source": [
    "def normalize_dataset(x_train, y_train):\n",
    "    # Scale images to the [0, 1] range\n",
    "    x_train = x_train.astype(\"float32\") / np.amax(x_train)\n",
    "    # Flatten the images.\n",
    "    #x_train = x_train.reshape((-1, len(x_train[0]) * len(x_train[0][0])))\n",
    "    # One hot encoding\n",
    "    unique_y = np.sort(np.unique(y_train))\n",
    "    y_train = np.array(list(map(lambda x:  [1 if x == k else 0 for k in unique_y], y_train)))\n",
    "\n",
    "    return x_train , y_train"
   ]
  }
 ],
 "metadata": {
  "kernelspec": {
   "display_name": "Python 3",
   "language": "python",
   "name": "python3"
  },
  "language_info": {
   "codemirror_mode": {
    "name": "ipython",
    "version": 3
   },
   "file_extension": ".py",
   "mimetype": "text/x-python",
   "name": "python",
   "nbconvert_exporter": "python",
   "pygments_lexer": "ipython3",
   "version": "3.8.10"
  }
 },
 "nbformat": 4,
 "nbformat_minor": 4
}
