{
 "cells": [
  {
   "cell_type": "markdown",
   "metadata": {},
   "source": [
    "# Build a CNN model"
   ]
  },
  {
   "cell_type": "code",
   "execution_count": 1,
   "metadata": {},
   "outputs": [
    {
     "name": "stderr",
     "output_type": "stream",
     "text": [
      "2021-12-08 14:50:53.397317: W tensorflow/stream_executor/platform/default/dso_loader.cc:64] Could not load dynamic library 'libcudart.so.11.0'; dlerror: libcudart.so.11.0: cannot open shared object file: No such file or directory\n",
      "2021-12-08 14:50:53.397348: I tensorflow/stream_executor/cuda/cudart_stub.cc:29] Ignore above cudart dlerror if you do not have a GPU set up on your machine.\n"
     ]
    }
   ],
   "source": [
    "import tensorflow as tf\n",
    "\n",
    "from tensorflow.keras import datasets, layers, models\n",
    "from tensorflow.keras.optimizers import Adam\n",
    "from tensorflow.python.keras.preprocessing.image import ImageDataGenerator\n",
    "import matplotlib.pyplot as plt\n",
    "\n",
    "from tools import pretraitement\n",
    "import random\n",
    "import os\n",
    "import json\n",
    "import sys\n",
    "import time"
   ]
  },
  {
   "cell_type": "code",
   "execution_count": 2,
   "metadata": {},
   "outputs": [],
   "source": [
    "# Chargement du jeu de données\n",
    "(x_train_origin, y_train_origin), (x_test_origin, y_test_origin) = tf.keras.datasets.cifar10.load_data()\n",
    "assert x_train_origin.shape == (50000, 32, 32, 3)\n",
    "assert x_test_origin.shape == (10000, 32, 32, 3)\n",
    "assert y_train_origin.shape == (50000, 1)\n",
    "assert y_test_origin.shape == (10000, 1)\n",
    "\n",
    "parametres = { 'data': {\n",
    "    'x_train_shape': x_train_origin.shape,\n",
    "    'y_train_shape': y_train_origin.shape,\n",
    "    'x_test_shape': x_test_origin.shape,\n",
    "    'y_test_shape': y_test_origin.shape,\n",
    "    'augmented_data': False\n",
    "}}"
   ]
  },
  {
   "cell_type": "code",
   "execution_count": 3,
   "metadata": {},
   "outputs": [],
   "source": [
    "# pretraitement des données\n",
    "(x_train, y_train) = pretraitement.normalize_dataset(x_train_origin, y_train_origin)\n",
    "\n",
    "(x_test, y_test) = pretraitement.normalize_dataset(x_test_origin, y_test_origin)"
   ]
  },
  {
   "cell_type": "code",
   "execution_count": 4,
   "metadata": {},
   "outputs": [],
   "source": [
    "del x_train_origin\n",
    "del x_test_origin\n",
    "del y_train_origin\n",
    "del y_test_origin"
   ]
  },
  {
   "cell_type": "code",
   "execution_count": 5,
   "metadata": {},
   "outputs": [],
   "source": [
    "assert x_train.shape == (50000, 32, 32, 3)\n",
    "assert x_test.shape == (10000, 32, 32, 3)\n",
    "assert y_train.shape == (50000, 10)\n",
    "assert y_test.shape == (10000, 10)"
   ]
  },
  {
   "cell_type": "code",
   "execution_count": 11,
   "metadata": {},
   "outputs": [],
   "source": [
    "# Construction d'un CNN\n",
    "def create_model():\n",
    "    input_shape=(32, 32, 3)\n",
    "\n",
    "    # La base CNN\n",
    "    model = models.Sequential()\n",
    "    model.add(layers.Conv2D(32, (3, 3),padding='same', activation='relu', input_shape=input_shape))\n",
    "    model.add(layers.BatchNormalization(axis=-1))\n",
    "    model.add(layers.Conv2D(32, (3, 3),padding='same', activation='relu', input_shape=input_shape))\n",
    "    model.add(layers.BatchNormalization(axis=-1))\n",
    "    model.add(layers.MaxPooling2D((2, 2))) # reduce to 16*16*3\n",
    "\n",
    "    model.add(layers.Conv2D(64, (3, 3),padding='same', activation='relu'))\n",
    "    model.add(layers.BatchNormalization(axis=-1))\n",
    "    model.add(layers.Conv2D(64, (3, 3),padding='same', activation='relu'))\n",
    "    model.add(layers.BatchNormalization(axis=-1))\n",
    "    model.add(layers.MaxPooling2D((2, 2))) # reduce to 8*8*3\n",
    "\n",
    "    model.add(layers.Conv2D(128, (3, 3), activation='relu'))\n",
    "    model.add(layers.BatchNormalization(axis=-1))\n",
    "    model.add(layers.Conv2D(128, (3, 3),padding='same', activation='relu'))\n",
    "    model.add(layers.BatchNormalization(axis=-1))\n",
    "    model.add(layers.MaxPooling2D((2, 2)))  # reduce to 4*4*3\n",
    "\n",
    "    # Ajout de couches denses vers la fin du model\n",
    "    model.add(layers.Flatten())\n",
    "    model.add(layers.Dense(512, activation='relu'))\n",
    "    model.add(layers.BatchNormalization())\n",
    "    model.add(layers.Dropout(0.3))\n",
    "    model.add(layers.Dense(256, activation='relu'))\n",
    "    model.add(layers.BatchNormalization())\n",
    "    model.add(layers.Dropout(0.5))\n",
    "    model.add(layers.Dense(10, activation='softmax'))\n",
    "    \n",
    "    return model\n"
   ]
  },
  {
   "cell_type": "code",
   "execution_count": 8,
   "metadata": {},
   "outputs": [],
   "source": [
    "def get_structure(model):\n",
    "    model_config = json.loads(model.to_json())\n",
    "\n",
    "    layers_information = []\n",
    "    l=model_config['config']['layers']\n",
    "\n",
    "    for i in range(len(l)):\n",
    "        layers_information.append({\n",
    "            'type': l[i]['class_name'],\n",
    "            'config': l[i]['config']\n",
    "        })\n",
    "\n",
    "    return {'layers' : layers_information}"
   ]
  },
  {
   "cell_type": "markdown",
   "metadata": {},
   "source": [
    "## Model training"
   ]
  },
  {
   "cell_type": "code",
   "execution_count": 9,
   "metadata": {},
   "outputs": [],
   "source": [
    "# Compiling model\n",
    "\n",
    "def compil_model(model):\n",
    "    ## training parameters\n",
    "    learning_rate = 0.001\n",
    "    loss='mean_squared_error'\n",
    "    #loss='categorical_crossentropy'\n",
    "    optimizers={'adam':Adam(learning_rate=learning_rate)}\n",
    "    optimizer = 'adam'\n",
    "    metrics=['accuracy']\n",
    "    epochs=40\n",
    "    batch_size=128\n",
    "    \n",
    "    model.compile(optimizer=optimizers[optimizer],\n",
    "                  loss=loss,\n",
    "                  metrics=metrics)\n",
    "    \n",
    "    return model, {\n",
    "        'learning_rate': learning_rate,\n",
    "        'loss': loss,\n",
    "        'optimizer': optimizer,\n",
    "        'metrics': metrics,\n",
    "        'epochs': epochs,\n",
    "        'batch_size': batch_size\n",
    "    }"
   ]
  },
  {
   "cell_type": "markdown",
   "metadata": {},
   "source": [
    "## Data augmentation"
   ]
  },
  {
   "cell_type": "code",
   "execution_count": 6,
   "metadata": {
    "scrolled": true
   },
   "outputs": [],
   "source": [
    "parametres['data']['augmented_data']=True\n",
    "parametres['data']['augmentation_param']= {\n",
    "    'rotation_range':15,\n",
    "    'horizontal_flip':True,\n",
    "    'width_shift_range':0.1,\n",
    "    'height_shift_range':0.1\n",
    "}\n",
    "\n",
    "\n",
    "datagen = ImageDataGenerator(**parametres['data']['augmentation_param'])\n",
    "\n",
    "#datagen.fit(x_train)"
   ]
  },
  {
   "cell_type": "code",
   "execution_count": null,
   "metadata": {},
   "outputs": [
    {
     "name": "stdout",
     "output_type": "stream",
     "text": [
      "Without data augmentation\n",
      "With data augmentation\n"
     ]
    },
    {
     "name": "stderr",
     "output_type": "stream",
     "text": [
      "/home/massy/.local/lib/python3.9/site-packages/keras/engine/training.py:1972: UserWarning: `Model.fit_generator` is deprecated and will be removed in a future version. Please use `Model.fit`, which supports generators.\n",
      "  warnings.warn('`Model.fit_generator` is deprecated and '\n",
      "2021-12-07 21:54:40.676162: I tensorflow/compiler/mlir/mlir_graph_optimization_pass.cc:185] None of the MLIR Optimization Passes are enabled (registered 2)\n"
     ]
    },
    {
     "name": "stdout",
     "output_type": "stream",
     "text": [
      "Epoch 1/40\n",
      "390/390 [==============================] - 132s 333ms/step - loss: 0.0766 - accuracy: 0.4201 - val_loss: 0.0643 - val_accuracy: 0.5048\n",
      "Epoch 2/40\n",
      "390/390 [==============================] - 129s 329ms/step - loss: 0.0599 - accuracy: 0.5480 - val_loss: 0.0523 - val_accuracy: 0.6125\n",
      "Epoch 3/40\n",
      "390/390 [==============================] - 127s 325ms/step - loss: 0.0528 - accuracy: 0.6031 - val_loss: 0.0483 - val_accuracy: 0.6472\n",
      "Epoch 4/40\n",
      "390/390 [==============================] - 111s 285ms/step - loss: 0.0484 - accuracy: 0.6404 - val_loss: 0.0431 - val_accuracy: 0.6836\n",
      "Epoch 5/40\n",
      "390/390 [==============================] - 128s 328ms/step - loss: 0.0453 - accuracy: 0.6650 - val_loss: 0.0448 - val_accuracy: 0.6738\n",
      "Epoch 6/40\n",
      "390/390 [==============================] - 130s 334ms/step - loss: 0.0430 - accuracy: 0.6832 - val_loss: 0.0399 - val_accuracy: 0.7125\n",
      "Epoch 7/40\n",
      " 99/390 [======>.......................] - ETA: 1:34 - loss: 0.0409 - accuracy: 0.6981"
     ]
    }
   ],
   "source": [
    "#fit\n",
    "if (parametres['data']['augmented_data']):\n",
    "    print(\"With data augmentation\")\n",
    "    history = model.fit_generator(datagen.flow(x_train, y_train, batch_size=batch_size),\n",
    "                                  steps_per_epoch = len(x_train)/batch_size,epochs=epochs,\n",
    "                                  validation_data=(x_test,y_test))\n",
    "else:\n",
    "    print(\"Without data augmentation\")\n",
    "    history = model.fit(x_train, y_train, epochs=epochs,batch_size=batch_size, \n",
    "                    validation_data=(x_test, y_test))"
   ]
  },
  {
   "cell_type": "code",
   "execution_count": 12,
   "metadata": {},
   "outputs": [],
   "source": [
    "def plot_accuracy(history,h2=None):\n",
    "    if (h2):\n",
    "        plt.plot(history.history['accuracy']+h2.history['accuracy'], label='accuracy')\n",
    "        plt.plot(history.history['val_accuracy']+h2.history['val_accuracy'], label = 'val_accuracy')\n",
    "    else:\n",
    "        plt.plot(history.history['accuracy'], label='accuracy')\n",
    "        plt.plot(history.history['val_accuracy'], label = 'val_accuracy')\n",
    "\n",
    "    plt.xlabel('Epoch')\n",
    "    plt.ylabel('Accuracy')\n",
    "    plt.legend(loc='lower right')\n",
    "    \n",
    "def plot_loss(history,h2=None):\n",
    "    if (h2):\n",
    "        plt.plot(history.history['loss']+h2.history['loss'], label='loss')\n",
    "        plt.plot(history.history['val_loss']+h2.history['val_loss'], label = 'val_loss')\n",
    "    else:\n",
    "        plt.plot(history.history['loss'], label='loss')\n",
    "        plt.plot(history.history['val_loss'], label='val_loss')\n",
    "    \n",
    "    plt.xlabel('Epoch')\n",
    "    plt.ylabel('Loss')\n",
    "    plt.legend(loc='upper right')"
   ]
  },
  {
   "cell_type": "code",
   "execution_count": 13,
   "metadata": {},
   "outputs": [
    {
     "data": {
      "image/png": "[encoded data removed]",
      "text/plain": [
       "<Figure size 432x288 with 1 Axes>"
      ]
     },
     "metadata": {
      "needs_background": "light"
     },
     "output_type": "display_data"
    },
    {
     "data": {
      "image/png": "[encoded data removed]",
      "text/plain": [
       "<Figure size 432x288 with 1 Axes>"
      ]
     },
     "metadata": {
      "needs_background": "light"
     },
     "output_type": "display_data"
    },
    {
     "name": "stdout",
     "output_type": "stream",
     "text": [
      "313/313 - 4s - loss: 0.0409 - accuracy: 0.7023\n",
      "Test accuracy: 0.7023000121116638\n",
      "Test loss: 0.04094371199607849\n"
     ]
    },
    {
     "name": "stderr",
     "output_type": "stream",
     "text": [
      "2021-12-07 20:58:10.233195: W tensorflow/core/framework/cpu_allocator_impl.cc:80] Allocation of 614400000 exceeds 10% of free system memory.\n"
     ]
    },
    {
     "name": "stdout",
     "output_type": "stream",
     "text": [
      "1563/1563 - 15s - loss: 0.0370 - accuracy: 0.7324\n",
      "train accuracy: 0.732420027256012\n",
      "Train loss: 0.036987509578466415\n"
     ]
    }
   ],
   "source": []
  },
  {
   "cell_type": "markdown",
   "metadata": {},
   "source": [
    "## Saving the model\n",
    "\n",
    "lets save the model in an external file "
   ]
  },
  {
   "cell_type": "code",
   "execution_count": 14,
   "metadata": {},
   "outputs": [],
   "source": [
    "#json file containing all model informations\n",
    "def save_in_json(file_name, model, parametres):\n",
    "    d = '/'.join(file_name.split('/')[0:-1])\n",
    "    if d:\n",
    "        d += '/'\n",
    "        \n",
    "    if (not os.path.isfile(file_name)):\n",
    "        data = {}\n",
    "    else:\n",
    "        with open(file_name, 'r') as json_file:\n",
    "            data = json.load(json_file)\n",
    "    t=str(time.time()).split('.')[0]\n",
    "    name = d+f'model-{t}.h5'\n",
    "    \n",
    "    data[f'model-{t}.h5'] = {\n",
    "        'time': str(time.time()).split('.')[0],\n",
    "        'structure': parametres['structure'],\n",
    "        'training': parametres['training'],\n",
    "        'data': parametres['data'],\n",
    "        'results': parametres['results']\n",
    "    }\n",
    "    \n",
    "    with open(file_name, 'w') as json_file:\n",
    "        json.dump(data, json_file)\n",
    "    \n",
    "    # save the model in the file\n",
    "    model.save(name)"
   ]
  },
  {
   "cell_type": "code",
   "execution_count": 15,
   "metadata": {},
   "outputs": [],
   "source": [
    "filename = '../saved-models/informations.json'\n",
    "save_in_json(filename, model, parametres)"
   ]
  },
  {
   "cell_type": "code",
   "execution_count": null,
   "metadata": {},
   "outputs": [],
   "source": [
    "b = {'rotation_range' : [15, 45],\n",
    "    'horizontal_flip' : [True],\n",
    "    'vertical_flip' : [True],\n",
    "    'width_shift_range' : [0.1, 0.3],\n",
    "    'height_shift_range' : [0.1, 0.3]\n",
    "     }\n",
    "\n",
    "default_acc = 0.756\n",
    "default_loss = 0.041\n",
    "best_value = {}\n",
    "\n",
    "for param, values in b.items() :\n",
    "    best_acc = default_acc\n",
    "    best_value[param] = None\n",
    "    for v in values:\n",
    "        parametres = { 'data': {\n",
    "          'x_train_shape': x_train.shape,\n",
    "          'y_train_shape': y_train.shape,\n",
    "          'x_test_shape': x_test.shape,\n",
    "          'y_test_shape': y_test.shape,\n",
    "          'augmented_data': False\n",
    "        }}\n",
    "        print(f\"Testing on {param} = {v} : \")\n",
    "        parametres['data']['augmented_data']=True\n",
    "        parametres['data']['augmentation_param']= {param: v}\n",
    "        \n",
    "        datagen = ImageDataGenerator(**parametres['data']['augmentation_param'])\n",
    "        \n",
    "        model = create_model()\n",
    "        parametres['structure'] = get_structure(model)\n",
    "        model, parametres['training'] = compil_model(model)\n",
    "        \n",
    "        history = model.fit_generator(datagen.flow(x_train, y_train, \n",
    "                                                   batch_size=parametres['training']['batch_size']),\n",
    "                                    steps_per_epoch = len(x_train)/parametres['training']['batch_size'],\n",
    "                                    epochs=parametres['training']['epochs'],\n",
    "                                  validation_data=(x_test,y_test))\n",
    "        parametres['results'] = evaluation(model, history)\n",
    "        \n",
    "        print(f\"Validation accuracy : {parametres['results']['val_acc']}\")\n",
    "        if best_acc < parametres['results']['val_acc']:\n",
    "            best_acc = parametres['results']['val_acc']\n",
    "            best_value[param] = v\n",
    "        \n",
    "        filename = 'informations.json'\n",
    "        save_in_json(filename, model, parametres)\n",
    "\n",
    "        del model\n",
    "        del parametres\n",
    "        del history\n",
    "        del datagen"
   ]
  },
  {
   "cell_type": "code",
   "execution_count": 14,
   "metadata": {},
   "outputs": [
    {
     "name": "stderr",
     "output_type": "stream",
     "text": [
      "Clipping input data to the valid range for imshow with RGB data ([0..1] for floats or [0..255] for integers).\n"
     ]
    },
    {
     "data": {
      "image/png": "[encoded data removed]",
      "text/plain": [
       "<Figure size 432x288 with 1 Axes>"
      ]
     },
     "metadata": {
      "needs_background": "light"
     },
     "output_type": "display_data"
    },
    {
     "name": "stderr",
     "output_type": "stream",
     "text": [
      "Clipping input data to the valid range for imshow with RGB data ([0..1] for floats or [0..255] for integers).\n"
     ]
    },
    {
     "data": {
      "image/png": "[encoded data removed]",
      "text/plain": [
       "<Figure size 432x288 with 1 Axes>"
      ]
     },
     "metadata": {
      "needs_background": "light"
     },
     "output_type": "display_data"
    },
    {
     "name": "stderr",
     "output_type": "stream",
     "text": [
      "Clipping input data to the valid range for imshow with RGB data ([0..1] for floats or [0..255] for integers).\n"
     ]
    },
    {
     "data": {
      "image/png": "[encoded data removed]",
      "text/plain": [
       "<Figure size 432x288 with 1 Axes>"
      ]
     },
     "metadata": {
      "needs_background": "light"
     },
     "output_type": "display_data"
    },
    {
     "name": "stderr",
     "output_type": "stream",
     "text": [
      "Clipping input data to the valid range for imshow with RGB data ([0..1] for floats or [0..255] for integers).\n"
     ]
    },
    {
     "data": {
      "image/png": "[encoded data removed]",
      "text/plain": [
       "<Figure size 432x288 with 1 Axes>"
      ]
     },
     "metadata": {
      "needs_background": "light"
     },
     "output_type": "display_data"
    },
    {
     "name": "stderr",
     "output_type": "stream",
     "text": [
      "Clipping input data to the valid range for imshow with RGB data ([0..1] for floats or [0..255] for integers).\n"
     ]
    },
    {
     "data": {
      "image/png": "[encoded data removed]",
      "text/plain": [
       "<Figure size 432x288 with 1 Axes>"
      ]
     },
     "metadata": {
      "needs_background": "light"
     },
     "output_type": "display_data"
    },
    {
     "name": "stderr",
     "output_type": "stream",
     "text": [
      "Clipping input data to the valid range for imshow with RGB data ([0..1] for floats or [0..255] for integers).\n"
     ]
    },
    {
     "data": {
      "image/png": "[encoded data removed]",
      "text/plain": [
       "<Figure size 432x288 with 1 Axes>"
      ]
     },
     "metadata": {
      "needs_background": "light"
     },
     "output_type": "display_data"
    }
   ],
   "source": [
    "datagen = ImageDataGenerator(vertical_flip=True)\n",
    "\n",
    "for x, y in datagen.flow(x_train, y_train, batch_size=6):\n",
    "    for i in range(6):\n",
    "        plt.imshow(x[i])\n",
    "        plt.show()\n",
    "    break"
   ]
  },
  {
   "cell_type": "code",
   "execution_count": null,
   "metadata": {},
   "outputs": [],
   "source": []
  }
 ],
 "metadata": {
  "kernelspec": {
   "display_name": "Python 3 (ipykernel)",
   "language": "python",
   "name": "python3"
  },
  "language_info": {
   "codemirror_mode": {
    "name": "ipython",
    "version": 3
   },
   "file_extension": ".py",
   "mimetype": "text/x-python",
   "name": "python",
   "nbconvert_exporter": "python",
   "pygments_lexer": "ipython3",
   "version": "3.9.5"
  }
 },
 "nbformat": 4,
 "nbformat_minor": 4
}
